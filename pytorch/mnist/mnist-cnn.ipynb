{
  "cells": [
    {
      "cell_type": "markdown",
      "metadata": {
        "id": "b92EqW_RwoAZ"
      },
      "source": [
        "# References\n",
        "\n",
        "- [Chapters 8,9,12] https://nostarch.com/practical-deep-learning-python\n",
        "- [MNIST Example Code] https://github.com/pytorch/examples/blob/main/mnist/main.py\n",
        "- [CNN Tutorial] https://pytorch.org/tutorials/beginner/blitz/cifar10_tutorial.html\n",
        "- [Pytorch Tutorial] https://pytorch.org/tutorials/beginner/deep_learning_60min_blitz.html"
      ]
    },
    {
      "cell_type": "code",
      "execution_count": 10,
      "metadata": {
        "id": "Y1J8taevYB6I"
      },
      "outputs": [],
      "source": [
        "import torch\n",
        "import torch.nn as nn\n",
        "import torch.nn.functional as F\n",
        "import torch.optim as optim\n",
        "from torchvision import datasets, transforms\n",
        "from torch.optim.lr_scheduler import StepLR"
      ]
    },
    {
      "cell_type": "code",
      "execution_count": 3,
      "metadata": {
        "colab": {
          "base_uri": "https://localhost:8080/"
        },
        "id": "RIZELgq7lwvL",
        "outputId": "b5f7c2b2-d6fa-430d-e373-cfee5b18ca76"
      },
      "outputs": [
        {
          "data": {
            "text/plain": [
              "device(type='cuda')"
            ]
          },
          "execution_count": 3,
          "metadata": {},
          "output_type": "execute_result"
        }
      ],
      "source": [
        "# enable cuda\n",
        "device = torch.device(\"cuda\") if torch.cuda.is_available() else torch.device(\"cpu\")\n",
        "device"
      ]
    },
    {
      "cell_type": "code",
      "execution_count": 34,
      "metadata": {
        "id": "i3jiy960YFOx"
      },
      "outputs": [],
      "source": [
        "class Net(nn.Module):\n",
        "    def __init__(self):\n",
        "        super(Net, self).__init__()\n",
        "        # 1 layer in, 32 layers out, 32 filters, 3x3 kernel with 1 stride\n",
        "        self.conv1 = nn.Conv2d(1, 32, 3, 1)\n",
        "        # 32 layers in, 64 layers out, 3x3 kernel with 1 stride\n",
        "        self.conv2 = nn.Conv2d(32, 64, 3, 1)\n",
        "        # 25% dropout\n",
        "        self.dropout1 = nn.Dropout(0.25)\n",
        "        # 50% dropout\n",
        "        self.dropout2 = nn.Dropout(0.5)\n",
        "        # Fully connected layer\n",
        "        self.fc1 = nn.Linear(9216, 128)\n",
        "        # Turn into classifications\n",
        "        self.fc2 = nn.Linear(128, 10)\n",
        "\n",
        "    def forward(self, x):\n",
        "        # Layer 0: raw data in : 28x28x1 in\n",
        "        # ---\n",
        "        # Layer 1: convolution : 26x26x32 out\n",
        "        x = self.conv1(x)\n",
        "        # Nonlinearity function : --\n",
        "        x = F.relu(x)\n",
        "        # Layer 2: convolution : 24x24x64 out\n",
        "        x = self.conv2(x)\n",
        "        # Nonlinearity function : --\n",
        "        x = F.relu(x)\n",
        "        # Pooling 2x2, take max, stride = kernel = 2 : 12x12x64 out\n",
        "        x = F.max_pool2d(x, 2)\n",
        "        # 25% dropout\n",
        "        x = self.dropout1(x)\n",
        "        # Unwrap layers : 12 * 12 * 64 = 9,216 1d-vector out\n",
        "        x = torch.flatten(x, 1)\n",
        "        # Fully Connected NN : 9,216 * 128 = 1,179,648 weights + 128 biases : 128 out\n",
        "        x = self.fc1(x)\n",
        "        # Nonlinearity function : --\n",
        "        x = F.relu(x)\n",
        "        # 50% dropout\n",
        "        x = self.dropout2(x)\n",
        "        # NN : 128 * 10 = 1,280 weights + 10 biases : 10 out\n",
        "        x = self.fc2(x)\n",
        "        # Softmax \n",
        "        output = F.log_softmax(x, dim=1)\n",
        "        return output"
      ]
    },
    {
      "cell_type": "code",
      "execution_count": 33,
      "metadata": {
        "id": "HQmaPxqTmE6Z"
      },
      "outputs": [],
      "source": [
        "# Training/testing setup\n",
        "train_kwargs = {'batch_size': 64}\n",
        "test_kwargs = {'batch_size': 1_000}\n",
        "\n",
        "cuda_kwargs = {'num_workers': 1,\n",
        "                'pin_memory': True,\n",
        "                'shuffle': True}\n",
        "train_kwargs.update(cuda_kwargs)\n",
        "test_kwargs.update(cuda_kwargs)"
      ]
    },
    {
      "cell_type": "code",
      "execution_count": 24,
      "metadata": {
        "colab": {
          "base_uri": "https://localhost:8080/"
        },
        "id": "nfV5RMlqmUfK",
        "outputId": "63b42662-2394-4987-b6ec-627b027a91b2"
      },
      "outputs": [
        {
          "name": "stderr",
          "output_type": "stream",
          "text": [
            "/usr/local/lib/python3.8/dist-packages/torchvision/datasets/mnist.py:75: UserWarning: train_data has been renamed data\n",
            "  warnings.warn(\"train_data has been renamed data\")\n"
          ]
        },
        {
          "name": "stdout",
          "output_type": "stream",
          "text": [
            "mean=tensor(0.1307),std=tensor(0.3081)\n"
          ]
        }
      ],
      "source": [
        "transform=transforms.Compose([\n",
        "    transforms.ToTensor(), # convert to the tensor data structure\n",
        "    transforms.Normalize((0.1307,), (0.3081,)) # these values are the mean and std, respectively\n",
        "    ])\n",
        "\n",
        "# load datasets\n",
        "dataset1 = datasets.MNIST('../data', train=True, download=True,\n",
        "                    transform=transform)\n",
        "dataset2 = datasets.MNIST('../data', train=False,\n",
        "                    transform=transform)\n",
        "train_loader = torch.utils.data.DataLoader(dataset1,**train_kwargs)\n",
        "test_loader = torch.utils.data.DataLoader(dataset2, **test_kwargs)\n",
        "\n",
        "# calculate mean and standard dev of training set\n",
        "mean = dataset1.train_data.float().mean()/255\n",
        "std = dataset1.train_data.float().std()/255\n",
        "print(f'{mean=},{std=}')"
      ]
    },
    {
      "cell_type": "code",
      "execution_count": 27,
      "metadata": {
        "id": "bFqTS3_SmnRU"
      },
      "outputs": [],
      "source": [
        "# create model on gpu\n",
        "model = Net().to(device)\n",
        "\n",
        "# Adadelta loss is what was used in the example code.\n",
        "# Provides 99% accuracy, vs. 96% for Cross Entropy Loss\n",
        "# https://pytorch.org/docs/stable/generated/torch.optim.Adadelta.html\n",
        "# optimizer = optim.Adadelta(model.parameters(), lr=1.0)\n",
        "\n",
        "# Cross Entropy Loss is what I read about first, so I wanted to test it out along with Stochastic gradient descent\n",
        "criterion = nn.CrossEntropyLoss()\n",
        "optimizer = optim.SGD(model.parameters(), lr=0.001, momentum=0.9)"
      ]
    },
    {
      "cell_type": "code",
      "execution_count": 35,
      "metadata": {
        "id": "_a5ZVluEoHzd"
      },
      "outputs": [],
      "source": [
        "def train(model, device, train_loader, optimizer, epoch):\n",
        "    model.train()\n",
        "    for batch_idx, (data, target) in enumerate(train_loader):\n",
        "        data, target = data.to(device), target.to(device)\n",
        "        # Set all gradient params to 0\n",
        "        optimizer.zero_grad()\n",
        "        # Pass through training data\n",
        "        output = model(data)\n",
        "        # Calculate Cross Entropy Loss\n",
        "        loss = criterion(output, target)\n",
        "\n",
        "        # See note above about Adadelta\n",
        "        # loss = F.nll_loss(output, target)\n",
        "\n",
        "        # run backpropagation\n",
        "        loss.backward()\n",
        "        # update parameters\n",
        "        optimizer.step()\n",
        "\n",
        "\n",
        "def test(model, device, test_loader):\n",
        "    # enable evaluation mode\n",
        "    model.eval()\n",
        "    test_loss = 0\n",
        "    correct = 0\n",
        "    # Disable gradient calculation - inference only mode\n",
        "    with torch.no_grad():\n",
        "        for data, target in test_loader:\n",
        "            # move data to gpu\n",
        "            data, target = data.to(device), target.to(device)\n",
        "            # run inference\n",
        "            output = model(data)\n",
        "            # calculate loss by cross entropy loss\n",
        "            test_loss += criterion(output, target)\n",
        "\n",
        "            # See note above about Adadelta\n",
        "            # test_loss += F.nll_loss(output, target, reduction='sum').item()  # sum up batch loss\n",
        "            \n",
        "            # Find the most likely match\n",
        "            pred = output.argmax(dim=1, keepdim=True)  # get the index of the max log-probability\n",
        "            # Mark as correct if model guessed correctly\n",
        "            correct += pred.eq(target.view_as(pred)).sum().item()\n",
        "\n",
        "    test_loss /= len(test_loader.dataset)\n",
        "\n",
        "    print('\\nTest set: Average loss: {:.4f}, Accuracy: {}/{} ({:.0f}%)\\n'.format(\n",
        "        test_loss, correct, len(test_loader.dataset),\n",
        "        100. * correct / len(test_loader.dataset)))"
      ]
    },
    {
      "cell_type": "code",
      "execution_count": 36,
      "metadata": {
        "colab": {
          "base_uri": "https://localhost:8080/"
        },
        "id": "ZhJe82lnnuMF",
        "outputId": "5d1b3a02-42a5-48c4-815d-606f19fe5a4e"
      },
      "outputs": [
        {
          "name": "stdout",
          "output_type": "stream",
          "text": [
            "\n",
            "Test set: Average loss: 0.0001, Accuracy: 9581/10000 (96%)\n",
            "\n",
            "Epoch 0 complete!\n",
            "\n",
            "Test set: Average loss: 0.0001, Accuracy: 9590/10000 (96%)\n",
            "\n",
            "Epoch 1 complete!\n"
          ]
        }
      ],
      "source": [
        "# scheduler decays learning rate parameters\n",
        "scheduler = StepLR(optimizer, step_size=1, gamma=0.7)\n",
        "for epoch in range(2):\n",
        "    train(model, device, train_loader, optimizer, epoch)\n",
        "    test(model, device, test_loader)\n",
        "    # update the learning rate\n",
        "    scheduler.step()\n",
        "    print(f\"Epoch {epoch} complete!\")"
      ]
    }
  ],
  "metadata": {
    "accelerator": "GPU",
    "colab": {
      "provenance": []
    },
    "gpuClass": "standard",
    "kernelspec": {
      "display_name": "Python 3",
      "name": "python3"
    },
    "language_info": {
      "name": "python"
    }
  },
  "nbformat": 4,
  "nbformat_minor": 0
}
